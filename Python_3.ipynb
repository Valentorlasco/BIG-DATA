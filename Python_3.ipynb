{
  "nbformat": 4,
  "nbformat_minor": 0,
  "metadata": {
    "colab": {
      "provenance": [],
      "include_colab_link": true
    },
    "kernelspec": {
      "name": "python3",
      "display_name": "Python 3"
    },
    "language_info": {
      "name": "python"
    }
  },
  "cells": [
    {
      "cell_type": "markdown",
      "metadata": {
        "id": "view-in-github",
        "colab_type": "text"
      },
      "source": [
        "<a href=\"https://colab.research.google.com/github/Valentorlasco/BIG-DATA/blob/main/Python_3.ipynb\" target=\"_parent\"><img src=\"https://colab.research.google.com/assets/colab-badge.svg\" alt=\"Open In Colab\"/></a>"
      ]
    },
    {
      "cell_type": "markdown",
      "metadata": {
        "id": "cI2oLEoSbIYs"
      },
      "source": [
        "#Big Data\n",
        "Estructuras de control y funciones clásicas"
      ]
    },
    {
      "cell_type": "markdown",
      "metadata": {
        "id": "J3Ep-qUGdjVB"
      },
      "source": [
        "### 1) Nuestro amigo el **IF**"
      ]
    },
    {
      "cell_type": "code",
      "metadata": {
        "id": "1LySJL4YbPIe",
        "colab": {
          "base_uri": "https://localhost:8080/"
        },
        "outputId": "e8cb53f4-42c5-42f0-b168-8a0bfc87e3da"
      },
      "source": [
        "nro_de_cliente=999\n",
        "\n",
        "if nro_de_cliente==999:\n",
        "  print('es el cliente 999!!')\n",
        "else:\n",
        "  print('cliente no encontrado :(')"
      ],
      "execution_count": 2,
      "outputs": [
        {
          "output_type": "stream",
          "name": "stdout",
          "text": [
            "es el cliente 999!!\n"
          ]
        }
      ]
    },
    {
      "cell_type": "code",
      "metadata": {
        "id": "67gC1BqWgaQ8"
      },
      "source": [
        "nro_de_cliente=111"
      ],
      "execution_count": 3,
      "outputs": []
    },
    {
      "cell_type": "code",
      "metadata": {
        "id": "yyMPrDjAezyW",
        "colab": {
          "base_uri": "https://localhost:8080/"
        },
        "outputId": "efff0804-b928-49ac-89ee-e4bca6e2d118"
      },
      "source": [
        "# if anidado\n",
        "if nro_de_cliente==999:\n",
        "  print('es el cliente 999!!')\n",
        "elif nro_de_cliente==111:\n",
        "  print('es el cliente 111!!')\n",
        "else:\n",
        "  print('cliente no encontrado :(')"
      ],
      "execution_count": 4,
      "outputs": [
        {
          "output_type": "stream",
          "name": "stdout",
          "text": [
            "es el cliente 111!!\n"
          ]
        }
      ]
    },
    {
      "cell_type": "markdown",
      "metadata": {
        "id": "xajuQeX8hBOH"
      },
      "source": [
        "Igual: x1 == x2\n",
        "\n",
        "Distinto: x1 != x2\n",
        "\n",
        "Menor a: x1 < x2\n",
        "\n",
        "Menor o igual a: x1 <= x2\n",
        "\n",
        "Mayor a: x1 > x2\n",
        "\n",
        "Mayor o igual x1 >= x2\n",
        "\n"
      ]
    },
    {
      "cell_type": "markdown",
      "metadata": {
        "id": "9YMSatf7GdTg"
      },
      "source": [
        "### 2) *Mientras* vemos el `while`"
      ]
    },
    {
      "cell_type": "code",
      "metadata": {
        "id": "QVSbcls-fU0Q",
        "colab": {
          "base_uri": "https://localhost:8080/"
        },
        "outputId": "4b678555-e7bf-4bd8-d6df-a1643813b3bb"
      },
      "source": [
        "# imprimir 3 elementos\n",
        "i=0\n",
        "while(i<3):\n",
        "  i=i+1\n",
        "  print(i)"
      ],
      "execution_count": null,
      "outputs": [
        {
          "output_type": "stream",
          "name": "stdout",
          "text": [
            "1\n",
            "2\n",
            "3\n"
          ]
        }
      ]
    },
    {
      "cell_type": "code",
      "metadata": {
        "id": "xHKV5FmfQuIL",
        "colab": {
          "base_uri": "https://localhost:8080/"
        },
        "outputId": "7156443d-ce96-4987-e4ba-e61b4d3e9f72"
      },
      "source": [
        "# bucle infinito\n",
        "while(1):\n",
        "  x1=input('¿Nombre? ')\n",
        "\n",
        "  if x1=='me aburri':\n",
        "    break\n",
        "\n",
        "  print('Bienvenido! ' + x1)\n"
      ],
      "execution_count": null,
      "outputs": [
        {
          "name": "stdout",
          "output_type": "stream",
          "text": [
            "¿Nombre? valentino\n",
            "Bienvenido! valentino\n",
            "¿Nombre? facundo\n",
            "Bienvenido! facundo\n",
            "¿Nombre? me aburii\n",
            "Bienvenido! me aburii\n",
            "¿Nombre? me aburri\n"
          ]
        }
      ]
    },
    {
      "cell_type": "markdown",
      "metadata": {
        "id": "bSL5eukOGqWt"
      },
      "source": [
        "### 3) *Para* que usar while, si hay `for`!"
      ]
    },
    {
      "cell_type": "code",
      "metadata": {
        "id": "HU0HEgXxG0YX"
      },
      "source": [
        "lista=[1,2,3,4]"
      ],
      "execution_count": 5,
      "outputs": []
    },
    {
      "cell_type": "code",
      "metadata": {
        "id": "vawmdM8uU-dH",
        "colab": {
          "base_uri": "https://localhost:8080/"
        },
        "outputId": "1f9017fc-b72f-4bd4-8a56-162591e2dcd7"
      },
      "source": [
        "for i in lista:\n",
        "\n",
        "  if i == 3:\n",
        "    break\n",
        "\n",
        "  print(i)"
      ],
      "execution_count": 6,
      "outputs": [
        {
          "output_type": "stream",
          "name": "stdout",
          "text": [
            "1\n",
            "2\n"
          ]
        }
      ]
    },
    {
      "cell_type": "markdown",
      "metadata": {
        "id": "nL1rI-ECZ0ny"
      },
      "source": [
        "¿Cómo usar for sobre pandas data frame?"
      ]
    },
    {
      "cell_type": "code",
      "metadata": {
        "id": "tIs6PtDOVt2v",
        "colab": {
          "base_uri": "https://localhost:8080/",
          "height": 206
        },
        "outputId": "cdd73ba7-930f-48c1-9bf5-6be44540f814"
      },
      "source": [
        "import pandas as pd\n",
        "\n",
        "d_star_wars=pd.read_csv(filepath_or_buffer=\"https://raw.githubusercontent.com/fpineyro/homework-0/master/starwars.csv\", sep=',')\n",
        "d_star_wars.head()\n"
      ],
      "execution_count": 7,
      "outputs": [
        {
          "output_type": "execute_result",
          "data": {
            "text/plain": [
              "             name  height mass hair_color   skin_color eye_color birth_year  \\\n",
              "0  Luke Skywalker   172.0   77      blond         fair      blue      19BBY   \n",
              "1           C-3PO   167.0   75        NaN         gold    yellow     112BBY   \n",
              "2           R2-D2    96.0   32        NaN  white, blue       red      33BBY   \n",
              "3     Darth Vader   202.0  136       none        white    yellow    41.9BBY   \n",
              "4     Leia Organa   150.0   49      brown        light     brown      19BBY   \n",
              "\n",
              "   gender homeworld species  \n",
              "0    male  Tatooine   Human  \n",
              "1     NaN  Tatooine   Droid  \n",
              "2     NaN     Naboo   Droid  \n",
              "3    male  Tatooine   Human  \n",
              "4  female  Alderaan   Human  "
            ],
            "text/html": [
              "\n",
              "  <div id=\"df-6090e62c-fb7e-420a-9e18-b279b0d0c3ba\" class=\"colab-df-container\">\n",
              "    <div>\n",
              "<style scoped>\n",
              "    .dataframe tbody tr th:only-of-type {\n",
              "        vertical-align: middle;\n",
              "    }\n",
              "\n",
              "    .dataframe tbody tr th {\n",
              "        vertical-align: top;\n",
              "    }\n",
              "\n",
              "    .dataframe thead th {\n",
              "        text-align: right;\n",
              "    }\n",
              "</style>\n",
              "<table border=\"1\" class=\"dataframe\">\n",
              "  <thead>\n",
              "    <tr style=\"text-align: right;\">\n",
              "      <th></th>\n",
              "      <th>name</th>\n",
              "      <th>height</th>\n",
              "      <th>mass</th>\n",
              "      <th>hair_color</th>\n",
              "      <th>skin_color</th>\n",
              "      <th>eye_color</th>\n",
              "      <th>birth_year</th>\n",
              "      <th>gender</th>\n",
              "      <th>homeworld</th>\n",
              "      <th>species</th>\n",
              "    </tr>\n",
              "  </thead>\n",
              "  <tbody>\n",
              "    <tr>\n",
              "      <th>0</th>\n",
              "      <td>Luke Skywalker</td>\n",
              "      <td>172.0</td>\n",
              "      <td>77</td>\n",
              "      <td>blond</td>\n",
              "      <td>fair</td>\n",
              "      <td>blue</td>\n",
              "      <td>19BBY</td>\n",
              "      <td>male</td>\n",
              "      <td>Tatooine</td>\n",
              "      <td>Human</td>\n",
              "    </tr>\n",
              "    <tr>\n",
              "      <th>1</th>\n",
              "      <td>C-3PO</td>\n",
              "      <td>167.0</td>\n",
              "      <td>75</td>\n",
              "      <td>NaN</td>\n",
              "      <td>gold</td>\n",
              "      <td>yellow</td>\n",
              "      <td>112BBY</td>\n",
              "      <td>NaN</td>\n",
              "      <td>Tatooine</td>\n",
              "      <td>Droid</td>\n",
              "    </tr>\n",
              "    <tr>\n",
              "      <th>2</th>\n",
              "      <td>R2-D2</td>\n",
              "      <td>96.0</td>\n",
              "      <td>32</td>\n",
              "      <td>NaN</td>\n",
              "      <td>white, blue</td>\n",
              "      <td>red</td>\n",
              "      <td>33BBY</td>\n",
              "      <td>NaN</td>\n",
              "      <td>Naboo</td>\n",
              "      <td>Droid</td>\n",
              "    </tr>\n",
              "    <tr>\n",
              "      <th>3</th>\n",
              "      <td>Darth Vader</td>\n",
              "      <td>202.0</td>\n",
              "      <td>136</td>\n",
              "      <td>none</td>\n",
              "      <td>white</td>\n",
              "      <td>yellow</td>\n",
              "      <td>41.9BBY</td>\n",
              "      <td>male</td>\n",
              "      <td>Tatooine</td>\n",
              "      <td>Human</td>\n",
              "    </tr>\n",
              "    <tr>\n",
              "      <th>4</th>\n",
              "      <td>Leia Organa</td>\n",
              "      <td>150.0</td>\n",
              "      <td>49</td>\n",
              "      <td>brown</td>\n",
              "      <td>light</td>\n",
              "      <td>brown</td>\n",
              "      <td>19BBY</td>\n",
              "      <td>female</td>\n",
              "      <td>Alderaan</td>\n",
              "      <td>Human</td>\n",
              "    </tr>\n",
              "  </tbody>\n",
              "</table>\n",
              "</div>\n",
              "    <div class=\"colab-df-buttons\">\n",
              "\n",
              "  <div class=\"colab-df-container\">\n",
              "    <button class=\"colab-df-convert\" onclick=\"convertToInteractive('df-6090e62c-fb7e-420a-9e18-b279b0d0c3ba')\"\n",
              "            title=\"Convert this dataframe to an interactive table.\"\n",
              "            style=\"display:none;\">\n",
              "\n",
              "  <svg xmlns=\"http://www.w3.org/2000/svg\" height=\"24px\" viewBox=\"0 -960 960 960\">\n",
              "    <path d=\"M120-120v-720h720v720H120Zm60-500h600v-160H180v160Zm220 220h160v-160H400v160Zm0 220h160v-160H400v160ZM180-400h160v-160H180v160Zm440 0h160v-160H620v160ZM180-180h160v-160H180v160Zm440 0h160v-160H620v160Z\"/>\n",
              "  </svg>\n",
              "    </button>\n",
              "\n",
              "  <style>\n",
              "    .colab-df-container {\n",
              "      display:flex;\n",
              "      gap: 12px;\n",
              "    }\n",
              "\n",
              "    .colab-df-convert {\n",
              "      background-color: #E8F0FE;\n",
              "      border: none;\n",
              "      border-radius: 50%;\n",
              "      cursor: pointer;\n",
              "      display: none;\n",
              "      fill: #1967D2;\n",
              "      height: 32px;\n",
              "      padding: 0 0 0 0;\n",
              "      width: 32px;\n",
              "    }\n",
              "\n",
              "    .colab-df-convert:hover {\n",
              "      background-color: #E2EBFA;\n",
              "      box-shadow: 0px 1px 2px rgba(60, 64, 67, 0.3), 0px 1px 3px 1px rgba(60, 64, 67, 0.15);\n",
              "      fill: #174EA6;\n",
              "    }\n",
              "\n",
              "    .colab-df-buttons div {\n",
              "      margin-bottom: 4px;\n",
              "    }\n",
              "\n",
              "    [theme=dark] .colab-df-convert {\n",
              "      background-color: #3B4455;\n",
              "      fill: #D2E3FC;\n",
              "    }\n",
              "\n",
              "    [theme=dark] .colab-df-convert:hover {\n",
              "      background-color: #434B5C;\n",
              "      box-shadow: 0px 1px 3px 1px rgba(0, 0, 0, 0.15);\n",
              "      filter: drop-shadow(0px 1px 2px rgba(0, 0, 0, 0.3));\n",
              "      fill: #FFFFFF;\n",
              "    }\n",
              "  </style>\n",
              "\n",
              "    <script>\n",
              "      const buttonEl =\n",
              "        document.querySelector('#df-6090e62c-fb7e-420a-9e18-b279b0d0c3ba button.colab-df-convert');\n",
              "      buttonEl.style.display =\n",
              "        google.colab.kernel.accessAllowed ? 'block' : 'none';\n",
              "\n",
              "      async function convertToInteractive(key) {\n",
              "        const element = document.querySelector('#df-6090e62c-fb7e-420a-9e18-b279b0d0c3ba');\n",
              "        const dataTable =\n",
              "          await google.colab.kernel.invokeFunction('convertToInteractive',\n",
              "                                                    [key], {});\n",
              "        if (!dataTable) return;\n",
              "\n",
              "        const docLinkHtml = 'Like what you see? Visit the ' +\n",
              "          '<a target=\"_blank\" href=https://colab.research.google.com/notebooks/data_table.ipynb>data table notebook</a>'\n",
              "          + ' to learn more about interactive tables.';\n",
              "        element.innerHTML = '';\n",
              "        dataTable['output_type'] = 'display_data';\n",
              "        await google.colab.output.renderOutput(dataTable, element);\n",
              "        const docLink = document.createElement('div');\n",
              "        docLink.innerHTML = docLinkHtml;\n",
              "        element.appendChild(docLink);\n",
              "      }\n",
              "    </script>\n",
              "  </div>\n",
              "\n",
              "\n",
              "<div id=\"df-92b5f917-06ff-4877-ac47-db076d75725f\">\n",
              "  <button class=\"colab-df-quickchart\" onclick=\"quickchart('df-92b5f917-06ff-4877-ac47-db076d75725f')\"\n",
              "            title=\"Suggest charts\"\n",
              "            style=\"display:none;\">\n",
              "\n",
              "<svg xmlns=\"http://www.w3.org/2000/svg\" height=\"24px\"viewBox=\"0 0 24 24\"\n",
              "     width=\"24px\">\n",
              "    <g>\n",
              "        <path d=\"M19 3H5c-1.1 0-2 .9-2 2v14c0 1.1.9 2 2 2h14c1.1 0 2-.9 2-2V5c0-1.1-.9-2-2-2zM9 17H7v-7h2v7zm4 0h-2V7h2v10zm4 0h-2v-4h2v4z\"/>\n",
              "    </g>\n",
              "</svg>\n",
              "  </button>\n",
              "\n",
              "<style>\n",
              "  .colab-df-quickchart {\n",
              "      --bg-color: #E8F0FE;\n",
              "      --fill-color: #1967D2;\n",
              "      --hover-bg-color: #E2EBFA;\n",
              "      --hover-fill-color: #174EA6;\n",
              "      --disabled-fill-color: #AAA;\n",
              "      --disabled-bg-color: #DDD;\n",
              "  }\n",
              "\n",
              "  [theme=dark] .colab-df-quickchart {\n",
              "      --bg-color: #3B4455;\n",
              "      --fill-color: #D2E3FC;\n",
              "      --hover-bg-color: #434B5C;\n",
              "      --hover-fill-color: #FFFFFF;\n",
              "      --disabled-bg-color: #3B4455;\n",
              "      --disabled-fill-color: #666;\n",
              "  }\n",
              "\n",
              "  .colab-df-quickchart {\n",
              "    background-color: var(--bg-color);\n",
              "    border: none;\n",
              "    border-radius: 50%;\n",
              "    cursor: pointer;\n",
              "    display: none;\n",
              "    fill: var(--fill-color);\n",
              "    height: 32px;\n",
              "    padding: 0;\n",
              "    width: 32px;\n",
              "  }\n",
              "\n",
              "  .colab-df-quickchart:hover {\n",
              "    background-color: var(--hover-bg-color);\n",
              "    box-shadow: 0 1px 2px rgba(60, 64, 67, 0.3), 0 1px 3px 1px rgba(60, 64, 67, 0.15);\n",
              "    fill: var(--button-hover-fill-color);\n",
              "  }\n",
              "\n",
              "  .colab-df-quickchart-complete:disabled,\n",
              "  .colab-df-quickchart-complete:disabled:hover {\n",
              "    background-color: var(--disabled-bg-color);\n",
              "    fill: var(--disabled-fill-color);\n",
              "    box-shadow: none;\n",
              "  }\n",
              "\n",
              "  .colab-df-spinner {\n",
              "    border: 2px solid var(--fill-color);\n",
              "    border-color: transparent;\n",
              "    border-bottom-color: var(--fill-color);\n",
              "    animation:\n",
              "      spin 1s steps(1) infinite;\n",
              "  }\n",
              "\n",
              "  @keyframes spin {\n",
              "    0% {\n",
              "      border-color: transparent;\n",
              "      border-bottom-color: var(--fill-color);\n",
              "      border-left-color: var(--fill-color);\n",
              "    }\n",
              "    20% {\n",
              "      border-color: transparent;\n",
              "      border-left-color: var(--fill-color);\n",
              "      border-top-color: var(--fill-color);\n",
              "    }\n",
              "    30% {\n",
              "      border-color: transparent;\n",
              "      border-left-color: var(--fill-color);\n",
              "      border-top-color: var(--fill-color);\n",
              "      border-right-color: var(--fill-color);\n",
              "    }\n",
              "    40% {\n",
              "      border-color: transparent;\n",
              "      border-right-color: var(--fill-color);\n",
              "      border-top-color: var(--fill-color);\n",
              "    }\n",
              "    60% {\n",
              "      border-color: transparent;\n",
              "      border-right-color: var(--fill-color);\n",
              "    }\n",
              "    80% {\n",
              "      border-color: transparent;\n",
              "      border-right-color: var(--fill-color);\n",
              "      border-bottom-color: var(--fill-color);\n",
              "    }\n",
              "    90% {\n",
              "      border-color: transparent;\n",
              "      border-bottom-color: var(--fill-color);\n",
              "    }\n",
              "  }\n",
              "</style>\n",
              "\n",
              "  <script>\n",
              "    async function quickchart(key) {\n",
              "      const quickchartButtonEl =\n",
              "        document.querySelector('#' + key + ' button');\n",
              "      quickchartButtonEl.disabled = true;  // To prevent multiple clicks.\n",
              "      quickchartButtonEl.classList.add('colab-df-spinner');\n",
              "      try {\n",
              "        const charts = await google.colab.kernel.invokeFunction(\n",
              "            'suggestCharts', [key], {});\n",
              "      } catch (error) {\n",
              "        console.error('Error during call to suggestCharts:', error);\n",
              "      }\n",
              "      quickchartButtonEl.classList.remove('colab-df-spinner');\n",
              "      quickchartButtonEl.classList.add('colab-df-quickchart-complete');\n",
              "    }\n",
              "    (() => {\n",
              "      let quickchartButtonEl =\n",
              "        document.querySelector('#df-92b5f917-06ff-4877-ac47-db076d75725f button');\n",
              "      quickchartButtonEl.style.display =\n",
              "        google.colab.kernel.accessAllowed ? 'block' : 'none';\n",
              "    })();\n",
              "  </script>\n",
              "</div>\n",
              "\n",
              "    </div>\n",
              "  </div>\n"
            ],
            "application/vnd.google.colaboratory.intrinsic+json": {
              "type": "dataframe",
              "variable_name": "d_star_wars",
              "summary": "{\n  \"name\": \"d_star_wars\",\n  \"rows\": 87,\n  \"fields\": [\n    {\n      \"column\": \"name\",\n      \"properties\": {\n        \"dtype\": \"string\",\n        \"num_unique_values\": 87,\n        \"samples\": [\n          \"Grievous\",\n          \"Luke Skywalker\",\n          \"Mon Mothma\"\n        ],\n        \"semantic_type\": \"\",\n        \"description\": \"\"\n      }\n    },\n    {\n      \"column\": \"height\",\n      \"properties\": {\n        \"dtype\": \"number\",\n        \"std\": 34.77042875849222,\n        \"min\": 66.0,\n        \"max\": 264.0,\n        \"num_unique_values\": 45,\n        \"samples\": [\n          168.0,\n          224.0,\n          206.0\n        ],\n        \"semantic_type\": \"\",\n        \"description\": \"\"\n      }\n    },\n    {\n      \"column\": \"mass\",\n      \"properties\": {\n        \"dtype\": \"category\",\n        \"num_unique_values\": 38,\n        \"samples\": [\n          \"88\",\n          \"57\",\n          \"49\"\n        ],\n        \"semantic_type\": \"\",\n        \"description\": \"\"\n      }\n    },\n    {\n      \"column\": \"hair_color\",\n      \"properties\": {\n        \"dtype\": \"category\",\n        \"num_unique_values\": 11,\n        \"samples\": [\n          \"auburn, white\",\n          \"blond\",\n          \"auburn\"\n        ],\n        \"semantic_type\": \"\",\n        \"description\": \"\"\n      }\n    },\n    {\n      \"column\": \"skin_color\",\n      \"properties\": {\n        \"dtype\": \"category\",\n        \"num_unique_values\": 30,\n        \"samples\": [\n          \"red, blue, white\",\n          \"orange\",\n          \"fair, green, yellow\"\n        ],\n        \"semantic_type\": \"\",\n        \"description\": \"\"\n      }\n    },\n    {\n      \"column\": \"eye_color\",\n      \"properties\": {\n        \"dtype\": \"category\",\n        \"num_unique_values\": 14,\n        \"samples\": [\n          \"red, blue\",\n          \"green, yellow\",\n          \"blue\"\n        ],\n        \"semantic_type\": \"\",\n        \"description\": \"\"\n      }\n    },\n    {\n      \"column\": \"birth_year\",\n      \"properties\": {\n        \"dtype\": \"category\",\n        \"num_unique_values\": 36,\n        \"samples\": [\n          \"46BBY\",\n          \"21BBY\",\n          \"62BBY\"\n        ],\n        \"semantic_type\": \"\",\n        \"description\": \"\"\n      }\n    },\n    {\n      \"column\": \"gender\",\n      \"properties\": {\n        \"dtype\": \"category\",\n        \"num_unique_values\": 4,\n        \"samples\": [\n          \"female\",\n          \"none\",\n          \"male\"\n        ],\n        \"semantic_type\": \"\",\n        \"description\": \"\"\n      }\n    },\n    {\n      \"column\": \"homeworld\",\n      \"properties\": {\n        \"dtype\": \"string\",\n        \"num_unique_values\": 48,\n        \"samples\": [\n          \"Haruun Kal\",\n          \"Ojom\",\n          \"Tund\"\n        ],\n        \"semantic_type\": \"\",\n        \"description\": \"\"\n      }\n    },\n    {\n      \"column\": \"species\",\n      \"properties\": {\n        \"dtype\": \"category\",\n        \"num_unique_values\": 37,\n        \"samples\": [\n          \"Xexto\",\n          \"Dug\",\n          \"Hutt\"\n        ],\n        \"semantic_type\": \"\",\n        \"description\": \"\"\n      }\n    }\n  ]\n}"
            }
          },
          "metadata": {},
          "execution_count": 7
        }
      ]
    },
    {
      "cell_type": "code",
      "metadata": {
        "id": "wTZNFp3pYgIx",
        "colab": {
          "base_uri": "https://localhost:8080/"
        },
        "outputId": "75a8d286-3f3c-4e91-aab1-565cbefb19c2"
      },
      "source": [
        "# no hacer así\n",
        "for row in d_star_wars:\n",
        "  print(row)\n",
        "\n"
      ],
      "execution_count": 8,
      "outputs": [
        {
          "output_type": "stream",
          "name": "stdout",
          "text": [
            "name\n",
            "height\n",
            "mass\n",
            "hair_color\n",
            "skin_color\n",
            "eye_color\n",
            "birth_year\n",
            "gender\n",
            "homeworld\n",
            "species\n"
          ]
        }
      ]
    },
    {
      "cell_type": "code",
      "metadata": {
        "id": "mJ7MF-pYZOn0",
        "colab": {
          "base_uri": "https://localhost:8080/"
        },
        "outputId": "0bc6ce4e-3d38-43d5-e591-5ab0e0be4103"
      },
      "source": [
        "# Usar iterrows()\n",
        "\n",
        "for label, row in d_star_wars[:5].iterrows():\n",
        "  print('El label es: ' + str(label))\n",
        "  print(row)"
      ],
      "execution_count": 9,
      "outputs": [
        {
          "output_type": "stream",
          "name": "stdout",
          "text": [
            "El label es: 0\n",
            "name          Luke Skywalker\n",
            "height                 172.0\n",
            "mass                      77\n",
            "hair_color             blond\n",
            "skin_color              fair\n",
            "eye_color               blue\n",
            "birth_year             19BBY\n",
            "gender                  male\n",
            "homeworld           Tatooine\n",
            "species                Human\n",
            "Name: 0, dtype: object\n",
            "El label es: 1\n",
            "name             C-3PO\n",
            "height           167.0\n",
            "mass                75\n",
            "hair_color         NaN\n",
            "skin_color        gold\n",
            "eye_color       yellow\n",
            "birth_year      112BBY\n",
            "gender             NaN\n",
            "homeworld     Tatooine\n",
            "species          Droid\n",
            "Name: 1, dtype: object\n",
            "El label es: 2\n",
            "name                R2-D2\n",
            "height               96.0\n",
            "mass                   32\n",
            "hair_color            NaN\n",
            "skin_color    white, blue\n",
            "eye_color             red\n",
            "birth_year          33BBY\n",
            "gender                NaN\n",
            "homeworld           Naboo\n",
            "species             Droid\n",
            "Name: 2, dtype: object\n",
            "El label es: 3\n",
            "name          Darth Vader\n",
            "height              202.0\n",
            "mass                  136\n",
            "hair_color           none\n",
            "skin_color          white\n",
            "eye_color          yellow\n",
            "birth_year        41.9BBY\n",
            "gender               male\n",
            "homeworld        Tatooine\n",
            "species             Human\n",
            "Name: 3, dtype: object\n",
            "El label es: 4\n",
            "name          Leia Organa\n",
            "height              150.0\n",
            "mass                   49\n",
            "hair_color          brown\n",
            "skin_color          light\n",
            "eye_color           brown\n",
            "birth_year          19BBY\n",
            "gender             female\n",
            "homeworld        Alderaan\n",
            "species             Human\n",
            "Name: 4, dtype: object\n"
          ]
        }
      ]
    },
    {
      "cell_type": "markdown",
      "metadata": {
        "id": "1NfhynzId6GV"
      },
      "source": [
        "Accediendo a cada valor:"
      ]
    },
    {
      "cell_type": "code",
      "metadata": {
        "id": "_2lhjKIWbZ8a",
        "colab": {
          "base_uri": "https://localhost:8080/"
        },
        "outputId": "63ea738f-c8b7-4fc7-c7cd-9acafb1b1a74"
      },
      "source": [
        "for _, row in d_star_wars[:10].iterrows():\n",
        "  print('Personaje: ' + row['name'] + ' lugar ' + row['homeworld'])"
      ],
      "execution_count": 10,
      "outputs": [
        {
          "output_type": "stream",
          "name": "stdout",
          "text": [
            "Personaje: Luke Skywalker lugar Tatooine\n",
            "Personaje: C-3PO lugar Tatooine\n",
            "Personaje: R2-D2 lugar Naboo\n",
            "Personaje: Darth Vader lugar Tatooine\n",
            "Personaje: Leia Organa lugar Alderaan\n",
            "Personaje: Owen Lars lugar Tatooine\n",
            "Personaje: Beru Whitesun lars lugar Tatooine\n",
            "Personaje: R5-D4 lugar Tatooine\n",
            "Personaje: Biggs Darklighter lugar Tatooine\n",
            "Personaje: Obi-Wan Kenobi lugar Stewjon\n"
          ]
        }
      ]
    },
    {
      "cell_type": "markdown",
      "metadata": {
        "id": "YwD3bxuAHNMr"
      },
      "source": [
        "### 4) ¿Cómo crear funciones en Python?"
      ]
    },
    {
      "cell_type": "code",
      "metadata": {
        "id": "FWOLiXGWG7WW"
      },
      "source": [
        "def mi_funcion():\n",
        "  print('hola mundo')"
      ],
      "execution_count": 11,
      "outputs": []
    },
    {
      "cell_type": "code",
      "metadata": {
        "id": "zh6u37TAgMEi",
        "colab": {
          "base_uri": "https://localhost:8080/"
        },
        "outputId": "ffe52d35-1017-4a09-a83a-265506e9b49e"
      },
      "source": [
        "mi_funcion()"
      ],
      "execution_count": 12,
      "outputs": [
        {
          "output_type": "stream",
          "name": "stdout",
          "text": [
            "hola mundo\n"
          ]
        }
      ]
    },
    {
      "cell_type": "markdown",
      "metadata": {
        "id": "3bTI57ZogYXR"
      },
      "source": [
        "¿Cómo crear una función con parámetros?"
      ]
    },
    {
      "cell_type": "code",
      "metadata": {
        "id": "yytTT0DbgOrv"
      },
      "source": [
        "def sumar(valor1, valor2):\n",
        "  return valor1+valor2"
      ],
      "execution_count": 13,
      "outputs": []
    },
    {
      "cell_type": "code",
      "metadata": {
        "id": "c2gtCG9LiL89",
        "colab": {
          "base_uri": "https://localhost:8080/"
        },
        "outputId": "4d8ad5ff-2d0a-4204-97c9-161f491b8681"
      },
      "source": [
        "sumar(valor1 = 5, valor2=5)"
      ],
      "execution_count": 14,
      "outputs": [
        {
          "output_type": "execute_result",
          "data": {
            "text/plain": [
              "10"
            ]
          },
          "metadata": {},
          "execution_count": 14
        }
      ]
    },
    {
      "cell_type": "markdown",
      "metadata": {
        "id": "TFYnkSUyifyw"
      },
      "source": [
        "¿Cómo explorar el contenido de una función?"
      ]
    },
    {
      "cell_type": "code",
      "metadata": {
        "id": "79amaexLhSnT"
      },
      "source": [
        "%%capture\n",
        "!pip install funpymodeling"
      ],
      "execution_count": 15,
      "outputs": []
    },
    {
      "cell_type": "code",
      "metadata": {
        "id": "ML9ZMIp1hOlc"
      },
      "source": [
        "from funpymodeling.exploratory import status"
      ],
      "execution_count": 16,
      "outputs": []
    },
    {
      "cell_type": "code",
      "metadata": {
        "id": "tfBfa_3Dhjuk",
        "colab": {
          "base_uri": "https://localhost:8080/",
          "height": 363
        },
        "outputId": "e3899526-013a-4e79-83e9-733d3760d253"
      },
      "source": [
        "status(d_star_wars)"
      ],
      "execution_count": 17,
      "outputs": [
        {
          "output_type": "execute_result",
          "data": {
            "text/plain": [
              "     variable  q_nan     p_nan  q_zeros  p_zeros  unique     type\n",
              "0        name      0  0.000000        0      0.0      87   object\n",
              "1      height      6  0.068966        0      0.0      45  float64\n",
              "2        mass     28  0.321839        0      0.0      38   object\n",
              "3  hair_color      6  0.068966        0      0.0      11   object\n",
              "4  skin_color      2  0.022989        0      0.0      30   object\n",
              "5   eye_color      3  0.034483        0      0.0      14   object\n",
              "6  birth_year     44  0.505747        0      0.0      36   object\n",
              "7      gender      3  0.034483        0      0.0       4   object\n",
              "8   homeworld     10  0.114943        0      0.0      48   object\n",
              "9     species      5  0.057471        0      0.0      37   object"
            ],
            "text/html": [
              "\n",
              "  <div id=\"df-cc06cc4b-367f-45c4-a3b6-ab0c9a3e61e7\" class=\"colab-df-container\">\n",
              "    <div>\n",
              "<style scoped>\n",
              "    .dataframe tbody tr th:only-of-type {\n",
              "        vertical-align: middle;\n",
              "    }\n",
              "\n",
              "    .dataframe tbody tr th {\n",
              "        vertical-align: top;\n",
              "    }\n",
              "\n",
              "    .dataframe thead th {\n",
              "        text-align: right;\n",
              "    }\n",
              "</style>\n",
              "<table border=\"1\" class=\"dataframe\">\n",
              "  <thead>\n",
              "    <tr style=\"text-align: right;\">\n",
              "      <th></th>\n",
              "      <th>variable</th>\n",
              "      <th>q_nan</th>\n",
              "      <th>p_nan</th>\n",
              "      <th>q_zeros</th>\n",
              "      <th>p_zeros</th>\n",
              "      <th>unique</th>\n",
              "      <th>type</th>\n",
              "    </tr>\n",
              "  </thead>\n",
              "  <tbody>\n",
              "    <tr>\n",
              "      <th>0</th>\n",
              "      <td>name</td>\n",
              "      <td>0</td>\n",
              "      <td>0.000000</td>\n",
              "      <td>0</td>\n",
              "      <td>0.0</td>\n",
              "      <td>87</td>\n",
              "      <td>object</td>\n",
              "    </tr>\n",
              "    <tr>\n",
              "      <th>1</th>\n",
              "      <td>height</td>\n",
              "      <td>6</td>\n",
              "      <td>0.068966</td>\n",
              "      <td>0</td>\n",
              "      <td>0.0</td>\n",
              "      <td>45</td>\n",
              "      <td>float64</td>\n",
              "    </tr>\n",
              "    <tr>\n",
              "      <th>2</th>\n",
              "      <td>mass</td>\n",
              "      <td>28</td>\n",
              "      <td>0.321839</td>\n",
              "      <td>0</td>\n",
              "      <td>0.0</td>\n",
              "      <td>38</td>\n",
              "      <td>object</td>\n",
              "    </tr>\n",
              "    <tr>\n",
              "      <th>3</th>\n",
              "      <td>hair_color</td>\n",
              "      <td>6</td>\n",
              "      <td>0.068966</td>\n",
              "      <td>0</td>\n",
              "      <td>0.0</td>\n",
              "      <td>11</td>\n",
              "      <td>object</td>\n",
              "    </tr>\n",
              "    <tr>\n",
              "      <th>4</th>\n",
              "      <td>skin_color</td>\n",
              "      <td>2</td>\n",
              "      <td>0.022989</td>\n",
              "      <td>0</td>\n",
              "      <td>0.0</td>\n",
              "      <td>30</td>\n",
              "      <td>object</td>\n",
              "    </tr>\n",
              "    <tr>\n",
              "      <th>5</th>\n",
              "      <td>eye_color</td>\n",
              "      <td>3</td>\n",
              "      <td>0.034483</td>\n",
              "      <td>0</td>\n",
              "      <td>0.0</td>\n",
              "      <td>14</td>\n",
              "      <td>object</td>\n",
              "    </tr>\n",
              "    <tr>\n",
              "      <th>6</th>\n",
              "      <td>birth_year</td>\n",
              "      <td>44</td>\n",
              "      <td>0.505747</td>\n",
              "      <td>0</td>\n",
              "      <td>0.0</td>\n",
              "      <td>36</td>\n",
              "      <td>object</td>\n",
              "    </tr>\n",
              "    <tr>\n",
              "      <th>7</th>\n",
              "      <td>gender</td>\n",
              "      <td>3</td>\n",
              "      <td>0.034483</td>\n",
              "      <td>0</td>\n",
              "      <td>0.0</td>\n",
              "      <td>4</td>\n",
              "      <td>object</td>\n",
              "    </tr>\n",
              "    <tr>\n",
              "      <th>8</th>\n",
              "      <td>homeworld</td>\n",
              "      <td>10</td>\n",
              "      <td>0.114943</td>\n",
              "      <td>0</td>\n",
              "      <td>0.0</td>\n",
              "      <td>48</td>\n",
              "      <td>object</td>\n",
              "    </tr>\n",
              "    <tr>\n",
              "      <th>9</th>\n",
              "      <td>species</td>\n",
              "      <td>5</td>\n",
              "      <td>0.057471</td>\n",
              "      <td>0</td>\n",
              "      <td>0.0</td>\n",
              "      <td>37</td>\n",
              "      <td>object</td>\n",
              "    </tr>\n",
              "  </tbody>\n",
              "</table>\n",
              "</div>\n",
              "    <div class=\"colab-df-buttons\">\n",
              "\n",
              "  <div class=\"colab-df-container\">\n",
              "    <button class=\"colab-df-convert\" onclick=\"convertToInteractive('df-cc06cc4b-367f-45c4-a3b6-ab0c9a3e61e7')\"\n",
              "            title=\"Convert this dataframe to an interactive table.\"\n",
              "            style=\"display:none;\">\n",
              "\n",
              "  <svg xmlns=\"http://www.w3.org/2000/svg\" height=\"24px\" viewBox=\"0 -960 960 960\">\n",
              "    <path d=\"M120-120v-720h720v720H120Zm60-500h600v-160H180v160Zm220 220h160v-160H400v160Zm0 220h160v-160H400v160ZM180-400h160v-160H180v160Zm440 0h160v-160H620v160ZM180-180h160v-160H180v160Zm440 0h160v-160H620v160Z\"/>\n",
              "  </svg>\n",
              "    </button>\n",
              "\n",
              "  <style>\n",
              "    .colab-df-container {\n",
              "      display:flex;\n",
              "      gap: 12px;\n",
              "    }\n",
              "\n",
              "    .colab-df-convert {\n",
              "      background-color: #E8F0FE;\n",
              "      border: none;\n",
              "      border-radius: 50%;\n",
              "      cursor: pointer;\n",
              "      display: none;\n",
              "      fill: #1967D2;\n",
              "      height: 32px;\n",
              "      padding: 0 0 0 0;\n",
              "      width: 32px;\n",
              "    }\n",
              "\n",
              "    .colab-df-convert:hover {\n",
              "      background-color: #E2EBFA;\n",
              "      box-shadow: 0px 1px 2px rgba(60, 64, 67, 0.3), 0px 1px 3px 1px rgba(60, 64, 67, 0.15);\n",
              "      fill: #174EA6;\n",
              "    }\n",
              "\n",
              "    .colab-df-buttons div {\n",
              "      margin-bottom: 4px;\n",
              "    }\n",
              "\n",
              "    [theme=dark] .colab-df-convert {\n",
              "      background-color: #3B4455;\n",
              "      fill: #D2E3FC;\n",
              "    }\n",
              "\n",
              "    [theme=dark] .colab-df-convert:hover {\n",
              "      background-color: #434B5C;\n",
              "      box-shadow: 0px 1px 3px 1px rgba(0, 0, 0, 0.15);\n",
              "      filter: drop-shadow(0px 1px 2px rgba(0, 0, 0, 0.3));\n",
              "      fill: #FFFFFF;\n",
              "    }\n",
              "  </style>\n",
              "\n",
              "    <script>\n",
              "      const buttonEl =\n",
              "        document.querySelector('#df-cc06cc4b-367f-45c4-a3b6-ab0c9a3e61e7 button.colab-df-convert');\n",
              "      buttonEl.style.display =\n",
              "        google.colab.kernel.accessAllowed ? 'block' : 'none';\n",
              "\n",
              "      async function convertToInteractive(key) {\n",
              "        const element = document.querySelector('#df-cc06cc4b-367f-45c4-a3b6-ab0c9a3e61e7');\n",
              "        const dataTable =\n",
              "          await google.colab.kernel.invokeFunction('convertToInteractive',\n",
              "                                                    [key], {});\n",
              "        if (!dataTable) return;\n",
              "\n",
              "        const docLinkHtml = 'Like what you see? Visit the ' +\n",
              "          '<a target=\"_blank\" href=https://colab.research.google.com/notebooks/data_table.ipynb>data table notebook</a>'\n",
              "          + ' to learn more about interactive tables.';\n",
              "        element.innerHTML = '';\n",
              "        dataTable['output_type'] = 'display_data';\n",
              "        await google.colab.output.renderOutput(dataTable, element);\n",
              "        const docLink = document.createElement('div');\n",
              "        docLink.innerHTML = docLinkHtml;\n",
              "        element.appendChild(docLink);\n",
              "      }\n",
              "    </script>\n",
              "  </div>\n",
              "\n",
              "\n",
              "<div id=\"df-e9cd166d-07a2-43cc-84dd-0ecefb503d0c\">\n",
              "  <button class=\"colab-df-quickchart\" onclick=\"quickchart('df-e9cd166d-07a2-43cc-84dd-0ecefb503d0c')\"\n",
              "            title=\"Suggest charts\"\n",
              "            style=\"display:none;\">\n",
              "\n",
              "<svg xmlns=\"http://www.w3.org/2000/svg\" height=\"24px\"viewBox=\"0 0 24 24\"\n",
              "     width=\"24px\">\n",
              "    <g>\n",
              "        <path d=\"M19 3H5c-1.1 0-2 .9-2 2v14c0 1.1.9 2 2 2h14c1.1 0 2-.9 2-2V5c0-1.1-.9-2-2-2zM9 17H7v-7h2v7zm4 0h-2V7h2v10zm4 0h-2v-4h2v4z\"/>\n",
              "    </g>\n",
              "</svg>\n",
              "  </button>\n",
              "\n",
              "<style>\n",
              "  .colab-df-quickchart {\n",
              "      --bg-color: #E8F0FE;\n",
              "      --fill-color: #1967D2;\n",
              "      --hover-bg-color: #E2EBFA;\n",
              "      --hover-fill-color: #174EA6;\n",
              "      --disabled-fill-color: #AAA;\n",
              "      --disabled-bg-color: #DDD;\n",
              "  }\n",
              "\n",
              "  [theme=dark] .colab-df-quickchart {\n",
              "      --bg-color: #3B4455;\n",
              "      --fill-color: #D2E3FC;\n",
              "      --hover-bg-color: #434B5C;\n",
              "      --hover-fill-color: #FFFFFF;\n",
              "      --disabled-bg-color: #3B4455;\n",
              "      --disabled-fill-color: #666;\n",
              "  }\n",
              "\n",
              "  .colab-df-quickchart {\n",
              "    background-color: var(--bg-color);\n",
              "    border: none;\n",
              "    border-radius: 50%;\n",
              "    cursor: pointer;\n",
              "    display: none;\n",
              "    fill: var(--fill-color);\n",
              "    height: 32px;\n",
              "    padding: 0;\n",
              "    width: 32px;\n",
              "  }\n",
              "\n",
              "  .colab-df-quickchart:hover {\n",
              "    background-color: var(--hover-bg-color);\n",
              "    box-shadow: 0 1px 2px rgba(60, 64, 67, 0.3), 0 1px 3px 1px rgba(60, 64, 67, 0.15);\n",
              "    fill: var(--button-hover-fill-color);\n",
              "  }\n",
              "\n",
              "  .colab-df-quickchart-complete:disabled,\n",
              "  .colab-df-quickchart-complete:disabled:hover {\n",
              "    background-color: var(--disabled-bg-color);\n",
              "    fill: var(--disabled-fill-color);\n",
              "    box-shadow: none;\n",
              "  }\n",
              "\n",
              "  .colab-df-spinner {\n",
              "    border: 2px solid var(--fill-color);\n",
              "    border-color: transparent;\n",
              "    border-bottom-color: var(--fill-color);\n",
              "    animation:\n",
              "      spin 1s steps(1) infinite;\n",
              "  }\n",
              "\n",
              "  @keyframes spin {\n",
              "    0% {\n",
              "      border-color: transparent;\n",
              "      border-bottom-color: var(--fill-color);\n",
              "      border-left-color: var(--fill-color);\n",
              "    }\n",
              "    20% {\n",
              "      border-color: transparent;\n",
              "      border-left-color: var(--fill-color);\n",
              "      border-top-color: var(--fill-color);\n",
              "    }\n",
              "    30% {\n",
              "      border-color: transparent;\n",
              "      border-left-color: var(--fill-color);\n",
              "      border-top-color: var(--fill-color);\n",
              "      border-right-color: var(--fill-color);\n",
              "    }\n",
              "    40% {\n",
              "      border-color: transparent;\n",
              "      border-right-color: var(--fill-color);\n",
              "      border-top-color: var(--fill-color);\n",
              "    }\n",
              "    60% {\n",
              "      border-color: transparent;\n",
              "      border-right-color: var(--fill-color);\n",
              "    }\n",
              "    80% {\n",
              "      border-color: transparent;\n",
              "      border-right-color: var(--fill-color);\n",
              "      border-bottom-color: var(--fill-color);\n",
              "    }\n",
              "    90% {\n",
              "      border-color: transparent;\n",
              "      border-bottom-color: var(--fill-color);\n",
              "    }\n",
              "  }\n",
              "</style>\n",
              "\n",
              "  <script>\n",
              "    async function quickchart(key) {\n",
              "      const quickchartButtonEl =\n",
              "        document.querySelector('#' + key + ' button');\n",
              "      quickchartButtonEl.disabled = true;  // To prevent multiple clicks.\n",
              "      quickchartButtonEl.classList.add('colab-df-spinner');\n",
              "      try {\n",
              "        const charts = await google.colab.kernel.invokeFunction(\n",
              "            'suggestCharts', [key], {});\n",
              "      } catch (error) {\n",
              "        console.error('Error during call to suggestCharts:', error);\n",
              "      }\n",
              "      quickchartButtonEl.classList.remove('colab-df-spinner');\n",
              "      quickchartButtonEl.classList.add('colab-df-quickchart-complete');\n",
              "    }\n",
              "    (() => {\n",
              "      let quickchartButtonEl =\n",
              "        document.querySelector('#df-e9cd166d-07a2-43cc-84dd-0ecefb503d0c button');\n",
              "      quickchartButtonEl.style.display =\n",
              "        google.colab.kernel.accessAllowed ? 'block' : 'none';\n",
              "    })();\n",
              "  </script>\n",
              "</div>\n",
              "\n",
              "    </div>\n",
              "  </div>\n"
            ],
            "application/vnd.google.colaboratory.intrinsic+json": {
              "type": "dataframe",
              "summary": "{\n  \"name\": \"status(d_star_wars)\",\n  \"rows\": 10,\n  \"fields\": [\n    {\n      \"column\": \"variable\",\n      \"properties\": {\n        \"dtype\": \"string\",\n        \"num_unique_values\": 10,\n        \"samples\": [\n          \"homeworld\",\n          \"height\",\n          \"eye_color\"\n        ],\n        \"semantic_type\": \"\",\n        \"description\": \"\"\n      }\n    },\n    {\n      \"column\": \"q_nan\",\n      \"properties\": {\n        \"dtype\": \"number\",\n        \"std\": 14,\n        \"min\": 0,\n        \"max\": 44,\n        \"num_unique_values\": 8,\n        \"samples\": [\n          6,\n          44,\n          0\n        ],\n        \"semantic_type\": \"\",\n        \"description\": \"\"\n      }\n    },\n    {\n      \"column\": \"p_nan\",\n      \"properties\": {\n        \"dtype\": \"number\",\n        \"std\": 0.16228665759791738,\n        \"min\": 0.0,\n        \"max\": 0.5057471264367817,\n        \"num_unique_values\": 8,\n        \"samples\": [\n          0.06896551724137931,\n          0.5057471264367817,\n          0.0\n        ],\n        \"semantic_type\": \"\",\n        \"description\": \"\"\n      }\n    },\n    {\n      \"column\": \"q_zeros\",\n      \"properties\": {\n        \"dtype\": \"number\",\n        \"std\": 0,\n        \"min\": 0,\n        \"max\": 0,\n        \"num_unique_values\": 1,\n        \"samples\": [\n          0\n        ],\n        \"semantic_type\": \"\",\n        \"description\": \"\"\n      }\n    },\n    {\n      \"column\": \"p_zeros\",\n      \"properties\": {\n        \"dtype\": \"number\",\n        \"std\": 0.0,\n        \"min\": 0.0,\n        \"max\": 0.0,\n        \"num_unique_values\": 1,\n        \"samples\": [\n          0.0\n        ],\n        \"semantic_type\": \"\",\n        \"description\": \"\"\n      }\n    },\n    {\n      \"column\": \"unique\",\n      \"properties\": {\n        \"dtype\": \"number\",\n        \"std\": 23,\n        \"min\": 4,\n        \"max\": 87,\n        \"num_unique_values\": 10,\n        \"samples\": [\n          48\n        ],\n        \"semantic_type\": \"\",\n        \"description\": \"\"\n      }\n    },\n    {\n      \"column\": \"type\",\n      \"properties\": {\n        \"dtype\": \"category\",\n        \"num_unique_values\": 2,\n        \"samples\": [\n          \"float64\"\n        ],\n        \"semantic_type\": \"\",\n        \"description\": \"\"\n      }\n    }\n  ]\n}"
            }
          },
          "metadata": {},
          "execution_count": 17
        }
      ]
    },
    {
      "cell_type": "code",
      "metadata": {
        "id": "W_QZcSykjzzU",
        "colab": {
          "base_uri": "https://localhost:8080/"
        },
        "outputId": "aab1718c-37c0-4ffc-bd77-62e53d31c83f"
      },
      "source": [
        "#calcula la cantidad de valores únicos presentes en cada columna del DataFrame.\n",
        "d_star_wars.nunique().values"
      ],
      "execution_count": 18,
      "outputs": [
        {
          "output_type": "execute_result",
          "data": {
            "text/plain": [
              "array([87, 45, 38, 11, 30, 14, 36,  4, 48, 37])"
            ]
          },
          "metadata": {},
          "execution_count": 18
        }
      ]
    },
    {
      "cell_type": "code",
      "metadata": {
        "id": "2sSjW66_lCgn",
        "colab": {
          "base_uri": "https://localhost:8080/"
        },
        "outputId": "bca0bba5-5848-4cb4-9ff8-9c27d964d3d0"
      },
      "source": [
        "d_star_wars.columns"
      ],
      "execution_count": 19,
      "outputs": [
        {
          "output_type": "execute_result",
          "data": {
            "text/plain": [
              "Index(['name', 'height', 'mass', 'hair_color', 'skin_color', 'eye_color',\n",
              "       'birth_year', 'gender', 'homeworld', 'species'],\n",
              "      dtype='object')"
            ]
          },
          "metadata": {},
          "execution_count": 19
        }
      ]
    },
    {
      "cell_type": "code",
      "metadata": {
        "id": "hDe0C5AZjJ6m"
      },
      "source": [
        "def status2(data):\n",
        "  return pd.DataFrame({'variables': data.columns, 'valores_unicos':data.nunique().values})"
      ],
      "execution_count": 20,
      "outputs": []
    },
    {
      "cell_type": "code",
      "metadata": {
        "id": "yPMsycHylW8e",
        "colab": {
          "base_uri": "https://localhost:8080/",
          "height": 363
        },
        "outputId": "20ec0af0-6e37-41f2-bd37-93b75f83ca0b"
      },
      "source": [
        "status2(d_star_wars)"
      ],
      "execution_count": 21,
      "outputs": [
        {
          "output_type": "execute_result",
          "data": {
            "text/plain": [
              "    variables  valores_unicos\n",
              "0        name              87\n",
              "1      height              45\n",
              "2        mass              38\n",
              "3  hair_color              11\n",
              "4  skin_color              30\n",
              "5   eye_color              14\n",
              "6  birth_year              36\n",
              "7      gender               4\n",
              "8   homeworld              48\n",
              "9     species              37"
            ],
            "text/html": [
              "\n",
              "  <div id=\"df-edbdac00-8c2b-46ed-b0c7-dfd251b738eb\" class=\"colab-df-container\">\n",
              "    <div>\n",
              "<style scoped>\n",
              "    .dataframe tbody tr th:only-of-type {\n",
              "        vertical-align: middle;\n",
              "    }\n",
              "\n",
              "    .dataframe tbody tr th {\n",
              "        vertical-align: top;\n",
              "    }\n",
              "\n",
              "    .dataframe thead th {\n",
              "        text-align: right;\n",
              "    }\n",
              "</style>\n",
              "<table border=\"1\" class=\"dataframe\">\n",
              "  <thead>\n",
              "    <tr style=\"text-align: right;\">\n",
              "      <th></th>\n",
              "      <th>variables</th>\n",
              "      <th>valores_unicos</th>\n",
              "    </tr>\n",
              "  </thead>\n",
              "  <tbody>\n",
              "    <tr>\n",
              "      <th>0</th>\n",
              "      <td>name</td>\n",
              "      <td>87</td>\n",
              "    </tr>\n",
              "    <tr>\n",
              "      <th>1</th>\n",
              "      <td>height</td>\n",
              "      <td>45</td>\n",
              "    </tr>\n",
              "    <tr>\n",
              "      <th>2</th>\n",
              "      <td>mass</td>\n",
              "      <td>38</td>\n",
              "    </tr>\n",
              "    <tr>\n",
              "      <th>3</th>\n",
              "      <td>hair_color</td>\n",
              "      <td>11</td>\n",
              "    </tr>\n",
              "    <tr>\n",
              "      <th>4</th>\n",
              "      <td>skin_color</td>\n",
              "      <td>30</td>\n",
              "    </tr>\n",
              "    <tr>\n",
              "      <th>5</th>\n",
              "      <td>eye_color</td>\n",
              "      <td>14</td>\n",
              "    </tr>\n",
              "    <tr>\n",
              "      <th>6</th>\n",
              "      <td>birth_year</td>\n",
              "      <td>36</td>\n",
              "    </tr>\n",
              "    <tr>\n",
              "      <th>7</th>\n",
              "      <td>gender</td>\n",
              "      <td>4</td>\n",
              "    </tr>\n",
              "    <tr>\n",
              "      <th>8</th>\n",
              "      <td>homeworld</td>\n",
              "      <td>48</td>\n",
              "    </tr>\n",
              "    <tr>\n",
              "      <th>9</th>\n",
              "      <td>species</td>\n",
              "      <td>37</td>\n",
              "    </tr>\n",
              "  </tbody>\n",
              "</table>\n",
              "</div>\n",
              "    <div class=\"colab-df-buttons\">\n",
              "\n",
              "  <div class=\"colab-df-container\">\n",
              "    <button class=\"colab-df-convert\" onclick=\"convertToInteractive('df-edbdac00-8c2b-46ed-b0c7-dfd251b738eb')\"\n",
              "            title=\"Convert this dataframe to an interactive table.\"\n",
              "            style=\"display:none;\">\n",
              "\n",
              "  <svg xmlns=\"http://www.w3.org/2000/svg\" height=\"24px\" viewBox=\"0 -960 960 960\">\n",
              "    <path d=\"M120-120v-720h720v720H120Zm60-500h600v-160H180v160Zm220 220h160v-160H400v160Zm0 220h160v-160H400v160ZM180-400h160v-160H180v160Zm440 0h160v-160H620v160ZM180-180h160v-160H180v160Zm440 0h160v-160H620v160Z\"/>\n",
              "  </svg>\n",
              "    </button>\n",
              "\n",
              "  <style>\n",
              "    .colab-df-container {\n",
              "      display:flex;\n",
              "      gap: 12px;\n",
              "    }\n",
              "\n",
              "    .colab-df-convert {\n",
              "      background-color: #E8F0FE;\n",
              "      border: none;\n",
              "      border-radius: 50%;\n",
              "      cursor: pointer;\n",
              "      display: none;\n",
              "      fill: #1967D2;\n",
              "      height: 32px;\n",
              "      padding: 0 0 0 0;\n",
              "      width: 32px;\n",
              "    }\n",
              "\n",
              "    .colab-df-convert:hover {\n",
              "      background-color: #E2EBFA;\n",
              "      box-shadow: 0px 1px 2px rgba(60, 64, 67, 0.3), 0px 1px 3px 1px rgba(60, 64, 67, 0.15);\n",
              "      fill: #174EA6;\n",
              "    }\n",
              "\n",
              "    .colab-df-buttons div {\n",
              "      margin-bottom: 4px;\n",
              "    }\n",
              "\n",
              "    [theme=dark] .colab-df-convert {\n",
              "      background-color: #3B4455;\n",
              "      fill: #D2E3FC;\n",
              "    }\n",
              "\n",
              "    [theme=dark] .colab-df-convert:hover {\n",
              "      background-color: #434B5C;\n",
              "      box-shadow: 0px 1px 3px 1px rgba(0, 0, 0, 0.15);\n",
              "      filter: drop-shadow(0px 1px 2px rgba(0, 0, 0, 0.3));\n",
              "      fill: #FFFFFF;\n",
              "    }\n",
              "  </style>\n",
              "\n",
              "    <script>\n",
              "      const buttonEl =\n",
              "        document.querySelector('#df-edbdac00-8c2b-46ed-b0c7-dfd251b738eb button.colab-df-convert');\n",
              "      buttonEl.style.display =\n",
              "        google.colab.kernel.accessAllowed ? 'block' : 'none';\n",
              "\n",
              "      async function convertToInteractive(key) {\n",
              "        const element = document.querySelector('#df-edbdac00-8c2b-46ed-b0c7-dfd251b738eb');\n",
              "        const dataTable =\n",
              "          await google.colab.kernel.invokeFunction('convertToInteractive',\n",
              "                                                    [key], {});\n",
              "        if (!dataTable) return;\n",
              "\n",
              "        const docLinkHtml = 'Like what you see? Visit the ' +\n",
              "          '<a target=\"_blank\" href=https://colab.research.google.com/notebooks/data_table.ipynb>data table notebook</a>'\n",
              "          + ' to learn more about interactive tables.';\n",
              "        element.innerHTML = '';\n",
              "        dataTable['output_type'] = 'display_data';\n",
              "        await google.colab.output.renderOutput(dataTable, element);\n",
              "        const docLink = document.createElement('div');\n",
              "        docLink.innerHTML = docLinkHtml;\n",
              "        element.appendChild(docLink);\n",
              "      }\n",
              "    </script>\n",
              "  </div>\n",
              "\n",
              "\n",
              "<div id=\"df-bcf5a856-6ed8-4d2f-988a-ced7cae0cc2d\">\n",
              "  <button class=\"colab-df-quickchart\" onclick=\"quickchart('df-bcf5a856-6ed8-4d2f-988a-ced7cae0cc2d')\"\n",
              "            title=\"Suggest charts\"\n",
              "            style=\"display:none;\">\n",
              "\n",
              "<svg xmlns=\"http://www.w3.org/2000/svg\" height=\"24px\"viewBox=\"0 0 24 24\"\n",
              "     width=\"24px\">\n",
              "    <g>\n",
              "        <path d=\"M19 3H5c-1.1 0-2 .9-2 2v14c0 1.1.9 2 2 2h14c1.1 0 2-.9 2-2V5c0-1.1-.9-2-2-2zM9 17H7v-7h2v7zm4 0h-2V7h2v10zm4 0h-2v-4h2v4z\"/>\n",
              "    </g>\n",
              "</svg>\n",
              "  </button>\n",
              "\n",
              "<style>\n",
              "  .colab-df-quickchart {\n",
              "      --bg-color: #E8F0FE;\n",
              "      --fill-color: #1967D2;\n",
              "      --hover-bg-color: #E2EBFA;\n",
              "      --hover-fill-color: #174EA6;\n",
              "      --disabled-fill-color: #AAA;\n",
              "      --disabled-bg-color: #DDD;\n",
              "  }\n",
              "\n",
              "  [theme=dark] .colab-df-quickchart {\n",
              "      --bg-color: #3B4455;\n",
              "      --fill-color: #D2E3FC;\n",
              "      --hover-bg-color: #434B5C;\n",
              "      --hover-fill-color: #FFFFFF;\n",
              "      --disabled-bg-color: #3B4455;\n",
              "      --disabled-fill-color: #666;\n",
              "  }\n",
              "\n",
              "  .colab-df-quickchart {\n",
              "    background-color: var(--bg-color);\n",
              "    border: none;\n",
              "    border-radius: 50%;\n",
              "    cursor: pointer;\n",
              "    display: none;\n",
              "    fill: var(--fill-color);\n",
              "    height: 32px;\n",
              "    padding: 0;\n",
              "    width: 32px;\n",
              "  }\n",
              "\n",
              "  .colab-df-quickchart:hover {\n",
              "    background-color: var(--hover-bg-color);\n",
              "    box-shadow: 0 1px 2px rgba(60, 64, 67, 0.3), 0 1px 3px 1px rgba(60, 64, 67, 0.15);\n",
              "    fill: var(--button-hover-fill-color);\n",
              "  }\n",
              "\n",
              "  .colab-df-quickchart-complete:disabled,\n",
              "  .colab-df-quickchart-complete:disabled:hover {\n",
              "    background-color: var(--disabled-bg-color);\n",
              "    fill: var(--disabled-fill-color);\n",
              "    box-shadow: none;\n",
              "  }\n",
              "\n",
              "  .colab-df-spinner {\n",
              "    border: 2px solid var(--fill-color);\n",
              "    border-color: transparent;\n",
              "    border-bottom-color: var(--fill-color);\n",
              "    animation:\n",
              "      spin 1s steps(1) infinite;\n",
              "  }\n",
              "\n",
              "  @keyframes spin {\n",
              "    0% {\n",
              "      border-color: transparent;\n",
              "      border-bottom-color: var(--fill-color);\n",
              "      border-left-color: var(--fill-color);\n",
              "    }\n",
              "    20% {\n",
              "      border-color: transparent;\n",
              "      border-left-color: var(--fill-color);\n",
              "      border-top-color: var(--fill-color);\n",
              "    }\n",
              "    30% {\n",
              "      border-color: transparent;\n",
              "      border-left-color: var(--fill-color);\n",
              "      border-top-color: var(--fill-color);\n",
              "      border-right-color: var(--fill-color);\n",
              "    }\n",
              "    40% {\n",
              "      border-color: transparent;\n",
              "      border-right-color: var(--fill-color);\n",
              "      border-top-color: var(--fill-color);\n",
              "    }\n",
              "    60% {\n",
              "      border-color: transparent;\n",
              "      border-right-color: var(--fill-color);\n",
              "    }\n",
              "    80% {\n",
              "      border-color: transparent;\n",
              "      border-right-color: var(--fill-color);\n",
              "      border-bottom-color: var(--fill-color);\n",
              "    }\n",
              "    90% {\n",
              "      border-color: transparent;\n",
              "      border-bottom-color: var(--fill-color);\n",
              "    }\n",
              "  }\n",
              "</style>\n",
              "\n",
              "  <script>\n",
              "    async function quickchart(key) {\n",
              "      const quickchartButtonEl =\n",
              "        document.querySelector('#' + key + ' button');\n",
              "      quickchartButtonEl.disabled = true;  // To prevent multiple clicks.\n",
              "      quickchartButtonEl.classList.add('colab-df-spinner');\n",
              "      try {\n",
              "        const charts = await google.colab.kernel.invokeFunction(\n",
              "            'suggestCharts', [key], {});\n",
              "      } catch (error) {\n",
              "        console.error('Error during call to suggestCharts:', error);\n",
              "      }\n",
              "      quickchartButtonEl.classList.remove('colab-df-spinner');\n",
              "      quickchartButtonEl.classList.add('colab-df-quickchart-complete');\n",
              "    }\n",
              "    (() => {\n",
              "      let quickchartButtonEl =\n",
              "        document.querySelector('#df-bcf5a856-6ed8-4d2f-988a-ced7cae0cc2d button');\n",
              "      quickchartButtonEl.style.display =\n",
              "        google.colab.kernel.accessAllowed ? 'block' : 'none';\n",
              "    })();\n",
              "  </script>\n",
              "</div>\n",
              "\n",
              "    </div>\n",
              "  </div>\n"
            ],
            "application/vnd.google.colaboratory.intrinsic+json": {
              "type": "dataframe",
              "summary": "{\n  \"name\": \"status2(d_star_wars)\",\n  \"rows\": 10,\n  \"fields\": [\n    {\n      \"column\": \"variables\",\n      \"properties\": {\n        \"dtype\": \"string\",\n        \"num_unique_values\": 10,\n        \"samples\": [\n          \"homeworld\",\n          \"height\",\n          \"eye_color\"\n        ],\n        \"semantic_type\": \"\",\n        \"description\": \"\"\n      }\n    },\n    {\n      \"column\": \"valores_unicos\",\n      \"properties\": {\n        \"dtype\": \"number\",\n        \"std\": 23,\n        \"min\": 4,\n        \"max\": 87,\n        \"num_unique_values\": 10,\n        \"samples\": [\n          48,\n          45,\n          14\n        ],\n        \"semantic_type\": \"\",\n        \"description\": \"\"\n      }\n    }\n  ]\n}"
            }
          },
          "metadata": {},
          "execution_count": 21
        }
      ]
    },
    {
      "cell_type": "markdown",
      "metadata": {
        "id": "q2dvWHTtmej0"
      },
      "source": [
        "<br>\n",
        "\n",
        "---\n",
        "\n",
        "\n",
        "\n",
        "# C.2.1) ¿Qué es `numpy`?"
      ]
    },
    {
      "cell_type": "code",
      "metadata": {
        "id": "uEnElyY8mhle"
      },
      "source": [
        "import numpy as np"
      ],
      "execution_count": 22,
      "outputs": []
    },
    {
      "cell_type": "code",
      "metadata": {
        "id": "jV94rfWIs-20"
      },
      "source": [
        "arr1=np.array([1,2,3,4,5])"
      ],
      "execution_count": 23,
      "outputs": []
    },
    {
      "cell_type": "code",
      "metadata": {
        "id": "wuR34pMrtXh0",
        "colab": {
          "base_uri": "https://localhost:8080/"
        },
        "outputId": "a144d96a-45d3-4914-c386-5ba3cedd7168"
      },
      "source": [
        "arr1"
      ],
      "execution_count": 24,
      "outputs": [
        {
          "output_type": "execute_result",
          "data": {
            "text/plain": [
              "array([1, 2, 3, 4, 5])"
            ]
          },
          "metadata": {},
          "execution_count": 24
        }
      ]
    },
    {
      "cell_type": "code",
      "metadata": {
        "id": "itbIWebQtYIu",
        "colab": {
          "base_uri": "https://localhost:8080/"
        },
        "outputId": "0fb10962-b909-4288-8a03-dd4426da1f5c"
      },
      "source": [
        "arr1+arr1"
      ],
      "execution_count": 25,
      "outputs": [
        {
          "output_type": "execute_result",
          "data": {
            "text/plain": [
              "array([ 2,  4,  6,  8, 10])"
            ]
          },
          "metadata": {},
          "execution_count": 25
        }
      ]
    },
    {
      "cell_type": "code",
      "metadata": {
        "id": "o9SR0siKwHw5",
        "colab": {
          "base_uri": "https://localhost:8080/"
        },
        "outputId": "d8e7d437-4fd6-4a9a-a445-eb0f1d03a0f2"
      },
      "source": [
        "arr1.shape # ranking 1"
      ],
      "execution_count": 26,
      "outputs": [
        {
          "output_type": "execute_result",
          "data": {
            "text/plain": [
              "(5,)"
            ]
          },
          "metadata": {},
          "execution_count": 26
        }
      ]
    },
    {
      "cell_type": "markdown",
      "metadata": {
        "id": "9yxksq9yvEuG"
      },
      "source": [
        "¿Cómo crear un \"tabla\" en numpy?\n",
        "\n",
        "Rank 2 array / 2D"
      ]
    },
    {
      "cell_type": "code",
      "metadata": {
        "id": "Vl1K6UipuLL5",
        "colab": {
          "base_uri": "https://localhost:8080/"
        },
        "outputId": "84f877d9-d53f-424c-fb2f-a238e51169f1"
      },
      "source": [
        "arr2=np.array([[1,2,3,4,5], [9,8,7,6,5]])\n",
        "\n",
        "arr2"
      ],
      "execution_count": 27,
      "outputs": [
        {
          "output_type": "execute_result",
          "data": {
            "text/plain": [
              "array([[1, 2, 3, 4, 5],\n",
              "       [9, 8, 7, 6, 5]])"
            ]
          },
          "metadata": {},
          "execution_count": 27
        }
      ]
    },
    {
      "cell_type": "code",
      "metadata": {
        "id": "QGDfksX8uyoW",
        "colab": {
          "base_uri": "https://localhost:8080/"
        },
        "outputId": "f9d98f34-63e1-43ae-dbcd-b02dffb8ce96"
      },
      "source": [
        "arr2.shape"
      ],
      "execution_count": 28,
      "outputs": [
        {
          "output_type": "execute_result",
          "data": {
            "text/plain": [
              "(2, 5)"
            ]
          },
          "metadata": {},
          "execution_count": 28
        }
      ]
    },
    {
      "cell_type": "markdown",
      "metadata": {
        "id": "Fup8L7rfxMtT"
      },
      "source": [
        "Rank 3 array / 3D"
      ]
    },
    {
      "cell_type": "code",
      "metadata": {
        "id": "bqFsF670vK0n"
      },
      "source": [
        "arr3=np.array([[[1,2,3,4,5], [9,8,7,6,5]]])"
      ],
      "execution_count": 29,
      "outputs": []
    },
    {
      "cell_type": "code",
      "metadata": {
        "id": "o7_ZpY1xw9mw",
        "colab": {
          "base_uri": "https://localhost:8080/"
        },
        "outputId": "60300713-02af-4455-8e3e-0fb5f2710f5c"
      },
      "source": [
        "arr3.shape"
      ],
      "execution_count": 30,
      "outputs": [
        {
          "output_type": "execute_result",
          "data": {
            "text/plain": [
              "(1, 2, 5)"
            ]
          },
          "metadata": {},
          "execution_count": 30
        }
      ]
    },
    {
      "cell_type": "markdown",
      "metadata": {
        "id": "dApZmci1-txe"
      },
      "source": [
        "### C.2.2) ¿Cómo hacer `reshape` en numpy?"
      ]
    },
    {
      "cell_type": "code",
      "metadata": {
        "id": "kvraE8qU-t94",
        "colab": {
          "base_uri": "https://localhost:8080/"
        },
        "outputId": "e3b52546-8c11-4b20-f43c-b7b60ed24721"
      },
      "source": [
        "arr3=np.array([1,2,3,4,5,6])\n",
        "print(arr3)\n",
        "print(arr3.shape)"
      ],
      "execution_count": 31,
      "outputs": [
        {
          "output_type": "stream",
          "name": "stdout",
          "text": [
            "[1 2 3 4 5 6]\n",
            "(6,)\n"
          ]
        }
      ]
    },
    {
      "cell_type": "code",
      "metadata": {
        "id": "gsainvYu_N54",
        "colab": {
          "base_uri": "https://localhost:8080/"
        },
        "outputId": "329d79c0-d9b2-4763-cab7-a67226ec22d9"
      },
      "source": [
        "arr4=arr3.reshape((2,3))\n",
        "\n",
        "arr4"
      ],
      "execution_count": 32,
      "outputs": [
        {
          "output_type": "execute_result",
          "data": {
            "text/plain": [
              "array([[1, 2, 3],\n",
              "       [4, 5, 6]])"
            ]
          },
          "metadata": {},
          "execution_count": 32
        }
      ]
    },
    {
      "cell_type": "code",
      "metadata": {
        "id": "RnBoAXGL_UBE",
        "colab": {
          "base_uri": "https://localhost:8080/"
        },
        "outputId": "9306b2d0-05bb-4c4a-b335-0dd28e68a565"
      },
      "source": [
        "arr4.shape"
      ],
      "execution_count": 33,
      "outputs": [
        {
          "output_type": "execute_result",
          "data": {
            "text/plain": [
              "(2, 3)"
            ]
          },
          "metadata": {},
          "execution_count": 33
        }
      ]
    },
    {
      "cell_type": "markdown",
      "metadata": {
        "id": "hM0ESIjuA10y"
      },
      "source": [
        "¿Cómo hacer flatten de un numpy array?"
      ]
    },
    {
      "cell_type": "code",
      "metadata": {
        "id": "i8UDMH0hAtqz",
        "colab": {
          "base_uri": "https://localhost:8080/"
        },
        "outputId": "223f65b0-4629-481b-dd9b-a1e9234cdc76"
      },
      "source": [
        "arr5=arr4.flatten()\n",
        "arr5"
      ],
      "execution_count": 34,
      "outputs": [
        {
          "output_type": "execute_result",
          "data": {
            "text/plain": [
              "array([1, 2, 3, 4, 5, 6])"
            ]
          },
          "metadata": {},
          "execution_count": 34
        }
      ]
    },
    {
      "cell_type": "markdown",
      "metadata": {
        "id": "Eelr5hzPCQU0"
      },
      "source": [
        "### C.2.3) ¿Cómo hacer slice de numpy?"
      ]
    },
    {
      "cell_type": "code",
      "metadata": {
        "id": "-thB6iq0CpDo",
        "colab": {
          "base_uri": "https://localhost:8080/"
        },
        "outputId": "51445f27-04ed-4371-e1a1-404c58f7d2e9"
      },
      "source": [
        "arr1"
      ],
      "execution_count": 35,
      "outputs": [
        {
          "output_type": "execute_result",
          "data": {
            "text/plain": [
              "array([1, 2, 3, 4, 5])"
            ]
          },
          "metadata": {},
          "execution_count": 35
        }
      ]
    },
    {
      "cell_type": "code",
      "metadata": {
        "id": "ee7oWKopCZJA",
        "colab": {
          "base_uri": "https://localhost:8080/"
        },
        "outputId": "9d3a7097-57f6-45bc-c48d-f1dd5cfb4b42"
      },
      "source": [
        "# 1er elemento\n",
        "arr1[0]"
      ],
      "execution_count": 36,
      "outputs": [
        {
          "output_type": "execute_result",
          "data": {
            "text/plain": [
              "1"
            ]
          },
          "metadata": {},
          "execution_count": 36
        }
      ]
    },
    {
      "cell_type": "code",
      "metadata": {
        "id": "EDpmpja7CrWn",
        "colab": {
          "base_uri": "https://localhost:8080/"
        },
        "outputId": "09392efd-e8dc-4fe5-f3a3-3dd7a6e07d5d"
      },
      "source": [
        "arr1[0:3]"
      ],
      "execution_count": 37,
      "outputs": [
        {
          "output_type": "execute_result",
          "data": {
            "text/plain": [
              "array([1, 2, 3])"
            ]
          },
          "metadata": {},
          "execution_count": 37
        }
      ]
    },
    {
      "cell_type": "markdown",
      "metadata": {
        "id": "0J2X5c-sDHkz"
      },
      "source": [
        "### C.2.4) ¿Cómo acceder a arrays n-dimensionales?"
      ]
    },
    {
      "cell_type": "code",
      "metadata": {
        "id": "YygaoyS-C49s",
        "colab": {
          "base_uri": "https://localhost:8080/"
        },
        "outputId": "37279243-a362-4170-da2b-533284d43a5c"
      },
      "source": [
        "arr4"
      ],
      "execution_count": 38,
      "outputs": [
        {
          "output_type": "execute_result",
          "data": {
            "text/plain": [
              "array([[1, 2, 3],\n",
              "       [4, 5, 6]])"
            ]
          },
          "metadata": {},
          "execution_count": 38
        }
      ]
    },
    {
      "cell_type": "code",
      "metadata": {
        "id": "I_PlzGPWCFvn",
        "colab": {
          "base_uri": "https://localhost:8080/"
        },
        "outputId": "79feacc0-0f22-48c6-ffae-df078f9608b3"
      },
      "source": [
        "arr4[0,:]"
      ],
      "execution_count": 39,
      "outputs": [
        {
          "output_type": "execute_result",
          "data": {
            "text/plain": [
              "array([1, 2, 3])"
            ]
          },
          "metadata": {},
          "execution_count": 39
        }
      ]
    },
    {
      "cell_type": "code",
      "metadata": {
        "id": "45tMun8LCW61",
        "colab": {
          "base_uri": "https://localhost:8080/"
        },
        "outputId": "c56b2a06-379d-4073-97f4-7fa5e2bf9bca"
      },
      "source": [
        "arr4[1,0]"
      ],
      "execution_count": 40,
      "outputs": [
        {
          "output_type": "execute_result",
          "data": {
            "text/plain": [
              "4"
            ]
          },
          "metadata": {},
          "execution_count": 40
        }
      ]
    },
    {
      "cell_type": "code",
      "metadata": {
        "id": "mrLmYIs1C8tV",
        "colab": {
          "base_uri": "https://localhost:8080/"
        },
        "outputId": "4312bc78-f847-4401-8991-4d5d629ce38c"
      },
      "source": [
        "arr4[1,0:2]"
      ],
      "execution_count": 41,
      "outputs": [
        {
          "output_type": "execute_result",
          "data": {
            "text/plain": [
              "array([4, 5])"
            ]
          },
          "metadata": {},
          "execution_count": 41
        }
      ]
    },
    {
      "cell_type": "code",
      "metadata": {
        "id": "iPVrpeENDRiZ",
        "colab": {
          "base_uri": "https://localhost:8080/"
        },
        "outputId": "269c0d97-fc7b-4dda-a796-f80ff353822d"
      },
      "source": [
        "# acceder a toda la 1er dimensión\n",
        "arr4[0]"
      ],
      "execution_count": 42,
      "outputs": [
        {
          "output_type": "execute_result",
          "data": {
            "text/plain": [
              "array([1, 2, 3])"
            ]
          },
          "metadata": {},
          "execution_count": 42
        }
      ]
    },
    {
      "cell_type": "markdown",
      "metadata": {
        "id": "ZOkr3C5iI3Lg"
      },
      "source": [
        "Imagen resumen numpy\n",
        "\n",
        "<img src=\"https://fgnt.github.io/python_crashkurs_doc/_images/numpy_array_t.png\" width=\"300px\">\n",
        "\n",
        "[Fuente](https://fgnt.github.io/python_crashkurs_doc/include/numpy.html)."
      ]
    },
    {
      "cell_type": "markdown",
      "source": [
        "#Ejercicios"
      ],
      "metadata": {
        "id": "WAV6NDSM0mK3"
      }
    },
    {
      "cell_type": "markdown",
      "source": [
        "Ejercicio 1: Crear un if anidado para verificar si el numero de cliente está entre 0 y 4, le decimos 'usuario autorizado' en cualquier otro caso indicar 'usuario no autorizado'."
      ],
      "metadata": {
        "id": "H499SypW0sg3"
      }
    },
    {
      "cell_type": "code",
      "source": [
        "#Ejercicio 1\n",
        "\n",
        "if nro_de_cliente>=0 and nro_de_cliente<=4:\n",
        "  print('usuario autorizado')\n",
        "else:\n",
        "  print('usuario no autorizado')"
      ],
      "metadata": {
        "id": "AQ167X7S0v_s",
        "colab": {
          "base_uri": "https://localhost:8080/"
        },
        "outputId": "dd5e9ba0-4391-4cec-e4eb-ebeb5158af9e"
      },
      "execution_count": 43,
      "outputs": [
        {
          "output_type": "stream",
          "name": "stdout",
          "text": [
            "usuario no autorizado\n"
          ]
        }
      ]
    },
    {
      "cell_type": "markdown",
      "source": [
        "Ejercicio 2: Mediante while solicitar al usuario que ingrese un número entre 1 y 5. Si el número ingresado es 3 que imprima 'Usted ha ganado la loteria'"
      ],
      "metadata": {
        "id": "wewZmHDu2qRD"
      }
    },
    {
      "cell_type": "code",
      "source": [
        "#Ejercicio 2\n",
        "# Iniciar el bucle\n",
        "while True:\n",
        "    # Solicitar al usuario que ingrese un número entre 1 y 5\n",
        "    numero = int(input(\"Ingrese un número entre 1 y 5: \"))\n",
        "\n",
        "    # Verificar si el número está dentro del rango permitido\n",
        "    if numero < 1 or numero > 5:\n",
        "        print(\"Número fuera del rango. Inténtelo nuevamente.\")\n",
        "    elif numero == 3:\n",
        "        print(\"¡Usted ha ganado la lotería!\")\n",
        "        break  # Termina el bucle si el número es 3\n",
        "    else:\n",
        "        print(f\"Usted ha ingresado el número {numero}. Inténtelo nuevamente.\")\n"
      ],
      "metadata": {
        "id": "5hWJkokk3Diu",
        "colab": {
          "base_uri": "https://localhost:8080/"
        },
        "outputId": "fb3b7519-c31d-42d3-e8b7-15582e640896"
      },
      "execution_count": 45,
      "outputs": [
        {
          "output_type": "stream",
          "name": "stdout",
          "text": [
            "Ingrese un número entre 1 y 5: 5\n",
            "Usted ha ingresado el número 5. Inténtelo nuevamente.\n",
            "Ingrese un número entre 1 y 5: 4\n",
            "Usted ha ingresado el número 4. Inténtelo nuevamente.\n",
            "Ingrese un número entre 1 y 5: 3\n",
            "¡Usted ha ganado la lotería!\n"
          ]
        }
      ]
    },
    {
      "cell_type": "markdown",
      "source": [
        "Ejercicio 3: Crear una lista que contenga los valores desde 0 a 10. Luego solicitar que se ingrese un número entre 0 y 10. Imprimir en pantalla los valores de la lista hasta el número que ingresaron"
      ],
      "metadata": {
        "id": "cUg-IloF4X6y"
      }
    },
    {
      "cell_type": "code",
      "source": [
        "#Ejercicio 3\n",
        "\n",
        "lista_numeros = list(range(11))\n",
        "numero = int(input(\"Ingrese un número entre 0 y 10: \"))\n",
        "if 0 <= numero <= 10:\n",
        "    # Imprimimos los valores de la lista hasta el número ingresado\n",
        "    print(\"Los números hasta el ingresado son:\")\n",
        "    for numero in lista_numeros[:numero+1]:  # Cortamos la lista hasta el índice ingresado\n",
        "        print(numero)"
      ],
      "metadata": {
        "id": "RJIQThlu4Xb3",
        "colab": {
          "base_uri": "https://localhost:8080/"
        },
        "outputId": "17eda59f-0e29-4f02-d0ef-3412871b1201"
      },
      "execution_count": 50,
      "outputs": [
        {
          "output_type": "stream",
          "name": "stdout",
          "text": [
            "Ingrese un número entre 0 y 10: 5\n",
            "Los números hasta el ingresado son:\n",
            "0\n",
            "1\n",
            "2\n",
            "3\n",
            "4\n",
            "5\n"
          ]
        }
      ]
    },
    {
      "cell_type": "markdown",
      "source": [
        "Ejercicio 4: Solicitar que se ingresen dos valores, mediante una función sumar estos dos numero y mostrar el resutaldo en pantalla"
      ],
      "metadata": {
        "id": "rM8ByOxC6L_L"
      }
    },
    {
      "cell_type": "code",
      "source": [
        "#Ejercicio 4\n",
        "#Función\n",
        "def multiplicar(numero1, numero2):\n",
        "  return numero1*numero2\n"
      ],
      "metadata": {
        "id": "TTZjeMkR6zN8"
      },
      "execution_count": 68,
      "outputs": []
    },
    {
      "cell_type": "code",
      "source": [
        "#Ejercicio 4\n",
        "\n",
        "resultado = multiplicar(numero1, numero2)\n",
        "\n",
        "numero1 = int(input(\"Ingrese un número \"))\n",
        "numero2 = int(input(\"Ingrese otro número \"))\n",
        "print(\"El resultado es: \", resultado)"
      ],
      "metadata": {
        "id": "pmJK91ro61H-",
        "colab": {
          "base_uri": "https://localhost:8080/"
        },
        "outputId": "cf2d53e8-0098-4bb1-ba9c-3e28de272eb9"
      },
      "execution_count": 70,
      "outputs": [
        {
          "output_type": "stream",
          "name": "stdout",
          "text": [
            "Ingrese un número 5\n",
            "Ingrese otro número 5\n",
            "El resultado es:  25\n"
          ]
        }
      ]
    },
    {
      "cell_type": "markdown",
      "source": [
        "Ejercicio 5: Solicitar que se ingresen dos valores, luego solicitar que tipo de operación se quiere realizar (suma, resta, multiplicación o división). Luego mediante una función realizar la operación matematica e imprimir el resultado."
      ],
      "metadata": {
        "id": "WpNMP3M58Itp"
      }
    },
    {
      "cell_type": "code",
      "source": [
        "#Ejercicio 5\n",
        "#Función\n",
        "def calculadora(a, b, operacion):\n",
        "  if operacion == 'suma':\n",
        "    return a + b\n",
        "  elif operacion == 'resta':\n",
        "    return a - b\n",
        "  elif operacion == 'multiplicacion':\n",
        "    return a * b\n",
        "  elif operacion == 'division':\n",
        "    return a / b\n",
        "  else:\n",
        "    return \"Operación no válida\"\n"
      ],
      "metadata": {
        "id": "K6-5pjuX8jua"
      },
      "execution_count": 71,
      "outputs": []
    },
    {
      "cell_type": "code",
      "source": [
        "#Ejercicio 5\n",
        "a = int(input(\"Ingrese el primer numero: \"))\n",
        "b = int(input(\"Ingrese el segundo numero: \"))\n",
        "operacion = input(\"Ingrese la operación (suma, resta, multiplicacion, division): \")\n",
        "resultado = calculadora(a, b, operacion)\n",
        "print(\"El resultado de la operación es:\", resultado)\n"
      ],
      "metadata": {
        "id": "tim3Z2_c8lSr",
        "colab": {
          "base_uri": "https://localhost:8080/"
        },
        "outputId": "e697fa89-a6f6-4b9a-f92d-b7067addf823"
      },
      "execution_count": 72,
      "outputs": [
        {
          "output_type": "stream",
          "name": "stdout",
          "text": [
            "Ingrese el primer numero: 5\n",
            "Ingrese el segundo numero: 60\n",
            "Ingrese la operación (suma, resta, multiplicacion, division): suma\n",
            "El resultado de la operación es: 65\n"
          ]
        }
      ]
    }
  ]
}